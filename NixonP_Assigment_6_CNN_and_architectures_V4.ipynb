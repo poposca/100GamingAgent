{
  "nbformat": 4,
  "nbformat_minor": 0,
  "metadata": {
    "colab": {
      "name": "NixonP_Assigment_6_CNN_and_architectures_V3.ipynb",
      "provenance": [],
      "collapsed_sections": [
        "K8Qaq9i1P9Vn"
      ],
      "include_colab_link": true
    },
    "kernelspec": {
      "name": "python3",
      "display_name": "Python 3"
    },
    "language_info": {
      "name": "python"
    }
  },
  "cells": [
    {
      "cell_type": "markdown",
      "metadata": {
        "id": "view-in-github",
        "colab_type": "text"
      },
      "source": [
        "<a href=\"https://colab.research.google.com/github/poposca/100GamingAgent/blob/main/NixonP_Assigment_6_CNN_and_architectures_V4.ipynb\" target=\"_parent\"><img src=\"https://colab.research.google.com/assets/colab-badge.svg\" alt=\"Open In Colab\"/></a>"
      ]
    },
    {
      "cell_type": "markdown",
      "metadata": {
        "id": "wZjEq9IGxYgS"
      },
      "source": [
        "# Assignment 6: Convolutional Neural Networks and Architectures\n",
        "\n",
        "This assignment is designed in order to train you for the exam. Then, I will suggest you to do this steo by step. \n",
        "\n",
        "To start building a Convolutional Neural Network, we need to make sure we have all the elements:\n",
        "1. Dataset\n",
        "2. Task to solve (classification, detection, segmentation, etc)\n",
        "3. An architecture\n",
        "4. Metrics to prove your network\n",
        "\n",
        "### Questions:\n",
        "1. Then, I want you to describe in your own words the definition of a **dataset** and how to feed a convolutional Neural network with it?"
      ]
    },
    {
      "cell_type": "markdown",
      "metadata": {
        "id": "aU7oQpfYyjo0"
      },
      "source": [
        "- A dataset is a collection of labeled data that can be used to feed and train a machine learning model. In the case of CNN, the images need to match the number of channels of the first filters of the network. Then, they can be fed to the network through iteration. This process is normaly done with the help of a data loader function or object."
      ]
    },
    {
      "cell_type": "markdown",
      "metadata": {
        "id": "C82v-37gyySJ"
      },
      "source": [
        "Here is your first coding task. You will be working with the following dataset [AVP](https://www.kaggle.com/pmigdal/alien-vs-predator-images). Then, in order to use this dataset in PyTorch you will have to create your own Dataset class in the code and then use DataLoaders to feed the network. Then, these are the links you need to:\n",
        "1. Create your [dataset class, and loader.](https://pytorch.org/tutorials/beginner/basics/data_tutorial.html) \n",
        "2. To preprocess your dataset you will need to use [transforms](https://pytorch.org/vision/stable/transforms.html).\n"
      ]
    },
    {
      "cell_type": "code",
      "metadata": {
        "id": "PN9NR0JVJmyT"
      },
      "source": [
        "import gc\n",
        "gc.enable()"
      ],
      "execution_count": null,
      "outputs": []
    },
    {
      "cell_type": "code",
      "metadata": {
        "id": "nyfPFezLxPLT"
      },
      "source": [
        "'''\n",
        "This is just an example of what you need to implement in your work\n",
        "\n",
        "First the Dataset class to manage your dataset\n",
        "'''\n",
        "\n",
        "import os\n",
        "import torchvision\n",
        "from torchvision.io import read_image\n",
        "from torch.utils.data import Dataset\n",
        "from torchvision.transforms import Grayscale\n",
        "\n",
        "class AVPImageDataset(Dataset):\n",
        "    def __init__(self, img_dir, transform=None, target_transform=None, train=True):\n",
        "        self.img_dir = img_dir\n",
        "        self.transform = transform\n",
        "        self.target_transform = target_transform\n",
        "        self.train = train\n",
        "\n",
        "    def __len__(self):\n",
        "        if self.train is True:\n",
        "          return 694\n",
        "        else:\n",
        "          return 200\n",
        "\n",
        "    def __getitem__(self, idx):\n",
        "        if self.train is True:\n",
        "          if 0 <= idx < 347:\n",
        "            file_name = str(idx) + \".jpg\"\n",
        "            img_path = os.path.join(self.img_dir, \"train\", \"alien\", file_name)\n",
        "            label = 0\n",
        "          elif 347 <= idx < 694:\n",
        "            file_name = str(idx - 347) + \".jpg\"\n",
        "            img_path = os.path.join(self.img_dir, \"train\", \"predator\", file_name)\n",
        "            label = 1\n",
        "        if self.train is False:\n",
        "          if 0 <= idx < 100:\n",
        "            file_name = str(idx) + \".jpg\"\n",
        "            img_path = os.path.join(self.img_dir, \"validation\", \"alien\", file_name)\n",
        "            label = 0\n",
        "          elif 100 <= idx < 200:\n",
        "            file_name = str(idx - 100) + \".jpg\"\n",
        "            img_path = os.path.join(self.img_dir, \"validation\", \"predator\", file_name)\n",
        "            label = 1\n",
        "        image = read_image(img_path)\n",
        "        if self.transform:\n",
        "            #print(image.float())\n",
        "            if image.shape[0] == 3:\n",
        "              t = torchvision.transforms.Compose([Grayscale(),])\n",
        "              image = t(image)\n",
        "            image = self.transform(image.float())\n",
        "        if self.target_transform:\n",
        "            label = self.target_transform(label)\n",
        "        return image, label\n"
      ],
      "execution_count": 1,
      "outputs": []
    },
    {
      "cell_type": "code",
      "metadata": {
        "colab": {
          "base_uri": "https://localhost:8080/"
        },
        "id": "lpI_39cbZenY",
        "outputId": "94c24d54-aa99-4ad0-fe9a-2a1d6ccc605f"
      },
      "source": [
        "from google.colab import drive\n",
        "drive.mount('/content/drive/')"
      ],
      "execution_count": 2,
      "outputs": [
        {
          "output_type": "stream",
          "text": [
            "Mounted at /content/drive/\n"
          ],
          "name": "stdout"
        }
      ]
    },
    {
      "cell_type": "code",
      "metadata": {
        "id": "JL5Ig3I0iVCX"
      },
      "source": [
        "training_data = AVPImageDataset(\"/content/drive/MyDrive/avp_data\", transform=mytransform, train=True)\n",
        "test_data = AVPImageDataset(\"/content/drive/MyDrive/avp_data\", transform=mytransform, train=False)"
      ],
      "execution_count": 5,
      "outputs": []
    },
    {
      "cell_type": "code",
      "metadata": {
        "id": "xAT4cle43QEg"
      },
      "source": [
        "'''\n",
        "Now you have to be able to iter your data with a loader\n",
        "'''\n",
        "\n",
        "from torch.utils.data import DataLoader\n",
        "\n",
        "train_dataloader = DataLoader(training_data, batch_size=8, shuffle=True)\n",
        "test_dataloader = DataLoader(test_data, batch_size=8, shuffle=True)"
      ],
      "execution_count": 6,
      "outputs": []
    },
    {
      "cell_type": "code",
      "metadata": {
        "id": "x197sEQe3Z7p"
      },
      "source": [
        "'''\n",
        "Sometimes your data will need to be preprocessed to use it\n",
        "Then use transforms from torch vision where you can mix Torchvision functions and PIL functions\n",
        "'''\n",
        "import torch\n",
        "torch.manual_seed(17)\n",
        "\n",
        "from torchvision.transforms import CenterCrop, Resize, ToTensor, Normalize, Compose, RandomHorizontalFlip #, RandomPerspective, RandomRotation\n",
        "\n",
        "transforms = torch.nn.Sequential(\n",
        "    CenterCrop(200),\n",
        "    Normalize((0.5, 0.5, 0.5), (0.5, 0.5, 0.5)),\n",
        ")\n",
        "scripted_transforms = torch.jit.script(transforms)\n",
        "\n",
        "'''\n",
        "You can use composition of transforms too\n",
        "'''\n",
        "mytransform = Compose([\n",
        "    Resize((192, 192)),\n",
        "    RandomHorizontalFlip(),     #Soft Data Augmentation\n",
        "    Normalize((0.5,), (0.5,))\n",
        "    #RandomPerspective(distortion_scale=0.1, p=0.3, fill=0.5),\n",
        "    #RandomRotation(5, fill=0.5)\n",
        "  ])"
      ],
      "execution_count": 4,
      "outputs": []
    },
    {
      "cell_type": "markdown",
      "metadata": {
        "id": "Spz2d6_9j20y"
      },
      "source": [
        "### Test Image and Label"
      ]
    },
    {
      "cell_type": "code",
      "metadata": {
        "colab": {
          "base_uri": "https://localhost:8080/",
          "height": 321
        },
        "id": "qyINB3qaj19H",
        "outputId": "cecf3153-7d77-4032-9622-e39e034afd28"
      },
      "source": [
        "import matplotlib.pyplot as plt\n",
        "\n",
        "# Display image and label.\n",
        "train_features, train_labels = next(iter(train_dataloader))\n",
        "print(f\"Feature batch shape: {train_features.size()}\")\n",
        "print(f\"Labels batch shape: {train_labels.size()}\")\n",
        "img = train_features[0].squeeze()\n",
        "label = train_labels[0]\n",
        "plt.imshow(img, cmap=\"gray\")\n",
        "plt.show()\n",
        "print(f\"Label: {label}\")"
      ],
      "execution_count": null,
      "outputs": [
        {
          "output_type": "stream",
          "text": [
            "Feature batch shape: torch.Size([8, 1, 192, 192])\n",
            "Labels batch shape: torch.Size([8])\n"
          ],
          "name": "stdout"
        },
        {
          "output_type": "display_data",
          "data": {
            "image/png": "[encoded data removed]",
            "text/plain": [
              "<Figure size 432x288 with 1 Axes>"
            ]
          },
          "metadata": {
            "tags": [],
            "needs_background": "light"
          }
        },
        {
          "output_type": "stream",
          "text": [
            "Label: 0\n"
          ],
          "name": "stdout"
        }
      ]
    },
    {
      "cell_type": "markdown",
      "metadata": {
        "id": "whIvXVPl4PCl"
      },
      "source": [
        "### Questions: Dataset and inputs\n",
        "\n",
        "1. Which feature of the images do you think is the most complicated to classify?\n",
        "2. Will you treat the data in gray scale or color images? Why? And what do you expect as a result?\n",
        "3. There are just two classes, then which loss funtion would do a better work? and why?\n",
        "4. Which optimizer will you use? and why?\n",
        "5. How will you set the best learning rate?\n",
        "5. How will you evaluate your model?"
      ]
    },
    {
      "cell_type": "markdown",
      "metadata": {
        "id": "LAZ4OE9W69Kn"
      },
      "source": [
        "### Answers\n",
        "\n",
        "1. The foreheads of aliens and predators which are very similar.\n",
        "2. Gray Scale, because the color does not place a role to distinguish between aliens and predators. In fact, the color on those images just represents lighting conditions.\n",
        "3. Binary Cross Entropy, because it allows to seed up the learning process which is necessary with such a small dataset.\n",
        "4. Stochastic gradient descent, because it can be configured in a way that performs better than other optimizers like Adam-.\n",
        "5. I will use a Decaying learning rate that gets multiplied by a factor of 0.1 every 4 epochs.\n",
        "6. The evalutation will be based on accuracy."
      ]
    },
    {
      "cell_type": "markdown",
      "metadata": {
        "id": "4tImviHo7FTX"
      },
      "source": [
        "## CNN Model and architecture\n",
        "\n",
        "Now we have to define a model, a convolutional neural network this mean. you should use convolutional layers, fully connected layers for classification and any additoonal layer for optimize the training. \n",
        "\n",
        "To define your model you can sue the following tutorials:\n",
        "1. [CIFAR10](https://pytorch.org/tutorials/beginner/blitz/cifar10_tutorial.html)\n",
        "2. [NN.module](https://pytorch.org/tutorials/recipes/recipes/defining_a_neural_network.html)\n",
        "\n",
        "The thing is that you cannot use transfer learning or implementations of famous CNN model. You have to create your own. And there will be 1 point in the exam for the one with the best accuaracy model in evaluation stage.\n"
      ]
    },
    {
      "cell_type": "markdown",
      "metadata": {
        "id": "K8Qaq9i1P9Vn"
      },
      "source": [
        "### NXNET"
      ]
    },
    {
      "cell_type": "code",
      "metadata": {
        "id": "y4cbc2J-6SV3"
      },
      "source": [
        "'''\n",
        "Here is an example using nn.Module\n",
        "'''\n",
        "import torch.nn as nn\n",
        "import torch.nn.functional as F\n",
        "\n",
        "\n",
        "class Net(nn.Module):\n",
        "    def __init__(self):\n",
        "      super(Net, self).__init__()\n",
        "      self.conv1 = nn.Conv2d(1, 32, 3, stride=1, padding=1, padding_mode='replicate')\n",
        "      self.conv2 = nn.Conv2d(32, 64, 3, stride=1, padding=1, padding_mode='circular')\n",
        "      self.conv3 = nn.Conv2d(64, 128, 3, stride=1, padding=1, padding_mode='zeros')\n",
        "      self.pool = nn.AvgPool2d(2, 2)\n",
        "      self.dropout1 = nn.Dropout2d(0.25)\n",
        "      self.dropout2 = nn.Dropout2d(0.5)\n",
        "      self.fc1 = nn.Linear(128 * 96 * 96, 320)    # --->OJO<---\n",
        "      self.fc2 = nn.Linear(320, 160)\n",
        "      self.fc3 = nn.Linear(160,80)\n",
        "      self.fc4 = nn.Linear(80, 1)\n",
        "      self.m = nn.Sigmoid()\n",
        "      self.norm1 = m = nn.InstanceNorm2d(32, affine=True)\n",
        "      self.norm2 = m = nn.InstanceNorm2d(64, affine=True)\n",
        "      self.norm3 = m = nn.InstanceNorm2d(128, affine=True)\n",
        "\n",
        "    def forward(self, x):\n",
        "      x = self.norm1(self.conv1(x))\n",
        "      x = F.relu(x)\n",
        "      x = self.norm2(self.conv2(x))\n",
        "      x = F.relu(x)\n",
        "      x = self.norm3(self.conv3(x))\n",
        "      x = F.relu(x)\n",
        "\n",
        "      x = self.pool(x)\n",
        "      #x = self.dropout1(x)\n",
        "      \n",
        "      x = torch.flatten(x, 1)\n",
        "      x = self.fc1(x)\n",
        "      x = F.relu(x)\n",
        "      #x = self.dropout2(x)\n",
        "      x = F.relu(self.fc2(x))\n",
        "      x = F.relu(self.fc3(x))\n",
        "      x = self.fc4(x)\n",
        "\n",
        "      output = self.m(x)\n",
        "      return output\n",
        "\n",
        "net = Net()"
      ],
      "execution_count": 16,
      "outputs": []
    },
    {
      "cell_type": "code",
      "metadata": {
        "colab": {
          "base_uri": "https://localhost:8080/"
        },
        "id": "TjQPWSlYQ8oH",
        "outputId": "ee7ba6a4-5791-4eed-ff76-e7f0068f7a70"
      },
      "source": [
        "random_data = torch.rand((1, 1, 192, 192))\n",
        "\n",
        "result = net(random_data)\n",
        "print (result)\n"
      ],
      "execution_count": 17,
      "outputs": [
        {
          "output_type": "stream",
          "text": [
            "tensor([[0.4908]], grad_fn=<SigmoidBackward>)\n"
          ],
          "name": "stdout"
        }
      ]
    },
    {
      "cell_type": "markdown",
      "metadata": {
        "id": "zrD87p9mQE6w"
      },
      "source": [
        "### Optimizer and Loss"
      ]
    },
    {
      "cell_type": "code",
      "metadata": {
        "id": "IOlhdldlcwkn"
      },
      "source": [
        "import torch.optim as optim\n",
        "\n",
        "criterion = nn.BCELoss()\n",
        "optimizer = optim.ASGD(net.parameters(), lr=0.001)"
      ],
      "execution_count": 18,
      "outputs": []
    },
    {
      "cell_type": "code",
      "metadata": {
        "id": "MjL3fUEkNVlK",
        "colab": {
          "base_uri": "https://localhost:8080/"
        },
        "outputId": "58d6e62d-b73f-4baa-b7d5-5039612d82cb"
      },
      "source": [
        "scheduler = optim.lr_scheduler.MultiStepLR(optimizer, [4,], 0.1, verbose = True )"
      ],
      "execution_count": 19,
      "outputs": [
        {
          "output_type": "stream",
          "text": [
            "Adjusting learning rate of group 0 to 1.0000e-03.\n"
          ],
          "name": "stdout"
        }
      ]
    },
    {
      "cell_type": "markdown",
      "metadata": {
        "id": "D6VxQmP-QKZu"
      },
      "source": [
        "### Training"
      ]
    },
    {
      "cell_type": "code",
      "metadata": {
        "colab": {
          "base_uri": "https://localhost:8080/"
        },
        "id": "Jw9UwLDveVgY",
        "outputId": "cfe52e59-8a40-499f-c2c2-ab3808e5b26f"
      },
      "source": [
        "for epoch in range(6):\n",
        "\n",
        "    running_loss = 0.0\n",
        "\n",
        "    for i, data in enumerate(train_dataloader, 0):\n",
        "        # get the inputs; data is a list of [inputs, labels]\n",
        "        inputs, labels = data\n",
        "        optimizer.zero_grad()\n",
        "\n",
        "        labels = labels.view(-1,1)\n",
        "        target = labels.float()\n",
        "\n",
        "        outputs = net(inputs)\n",
        "\n",
        "        #print(\"labels: \", target)\n",
        "        #print(\"outputs: \", outputs)\n",
        "\n",
        "        loss = criterion(outputs, target)\n",
        "        loss.backward()\n",
        "        optimizer.step()\n",
        "\n",
        "        #print(\"t_loss = \", loss.item() )\n",
        "\n",
        "        running_loss += loss.item()\n",
        "        if i % 20 == 19:    # print every 20 mini-batches\n",
        "           \n",
        "            print('[%d, %5d] loss: %.4f' %\n",
        "                  (epoch + 1, i + 1, running_loss / 20))\n",
        "            running_loss = 0.0\n",
        "\n",
        "    scheduler.step()\n",
        "\n",
        "print('Finished Training')"
      ],
      "execution_count": 20,
      "outputs": [
        {
          "output_type": "stream",
          "text": [
            "[1,    20] loss: 0.6935\n",
            "[1,    40] loss: 0.6923\n",
            "[1,    60] loss: 0.6888\n",
            "[1,    80] loss: 0.6836\n",
            "Adjusting learning rate of group 0 to 1.0000e-03.\n",
            "[2,    20] loss: 0.6696\n",
            "[2,    40] loss: 0.6518\n",
            "[2,    60] loss: 0.6668\n",
            "[2,    80] loss: 0.6464\n",
            "Adjusting learning rate of group 0 to 1.0000e-03.\n",
            "[3,    20] loss: 0.6166\n",
            "[3,    40] loss: 0.6624\n",
            "[3,    60] loss: 0.6261\n",
            "[3,    80] loss: 0.5958\n",
            "Adjusting learning rate of group 0 to 1.0000e-03.\n",
            "[4,    20] loss: 0.5843\n",
            "[4,    40] loss: 0.5690\n",
            "[4,    60] loss: 0.6157\n",
            "[4,    80] loss: 0.5705\n",
            "Adjusting learning rate of group 0 to 1.0000e-04.\n",
            "[5,    20] loss: 0.5259\n",
            "[5,    40] loss: 0.5247\n",
            "[5,    60] loss: 0.5271\n",
            "[5,    80] loss: 0.4773\n",
            "Adjusting learning rate of group 0 to 1.0000e-04.\n",
            "[6,    20] loss: 0.4944\n",
            "[6,    40] loss: 0.4761\n",
            "[6,    60] loss: 0.5087\n",
            "[6,    80] loss: 0.5429\n",
            "Adjusting learning rate of group 0 to 1.0000e-04.\n",
            "Finished Training\n"
          ],
          "name": "stdout"
        }
      ]
    },
    {
      "cell_type": "code",
      "metadata": {
        "id": "0Twh6vlgDZpt"
      },
      "source": [
        "PATH3 = './NXNET3.pth'\n",
        "torch.save(net.state_dict(), PATH3)"
      ],
      "execution_count": 21,
      "outputs": []
    },
    {
      "cell_type": "markdown",
      "metadata": {
        "id": "9WL-GdFyP308"
      },
      "source": [
        "### Questions: Models and architecture\n",
        "\n",
        "1. Why is better to use a convolutional layer over a fully connected one to extract features from an image?\n",
        "2. How a convolution works? And which operations represent the convolution?\n",
        "3. How do you calculate de size of the feature maps and inputs in a convolutional layer? \n",
        "4. Principal differences between lienar classifiers and convolutional networks?\n"
      ]
    },
    {
      "cell_type": "markdown",
      "metadata": {
        "id": "VP1Tf06XUwWa"
      },
      "source": [
        "1. Because it preserves in some way the structure of the image, so the inferences are done according to the pixels and their positions.\n",
        "2. The convolution uses a kernel that extracts a feature of the image. This is done through dot products of two matrices of the size of the kernel.\n",
        "3. The height and width of the feautre map is equal to the those charasteristics from the input minus those from the kernel plus two times the padding, all of that divided by the stride size, and all of that plus one.\n",
        "4. Convolutional networks can perform non-linear classifications."
      ]
    },
    {
      "cell_type": "markdown",
      "metadata": {
        "id": "BUWZ-4z9U0JS"
      },
      "source": [
        "## Test your model\n",
        "In order to test your model you should use at least a validation dataset and (optional) test dataset. Here is an example on how to train with a [validation dataset.](https://www.geeksforgeeks.org/training-neural-networks-with-validation-using-pytorch/)\n",
        "\n"
      ]
    },
    {
      "cell_type": "code",
      "metadata": {
        "id": "M18G7_eLEV0J"
      },
      "source": [
        "classes = ('alien', 'predator')"
      ],
      "execution_count": 12,
      "outputs": []
    },
    {
      "cell_type": "code",
      "metadata": {
        "colab": {
          "base_uri": "https://localhost:8080/"
        },
        "id": "UUe08DbdIECn",
        "outputId": "d0d7bd68-0d88-4f7d-e5c3-002f8f329861"
      },
      "source": [
        "net = Net()\n",
        "net.load_state_dict(torch.load(PATH3))"
      ],
      "execution_count": 22,
      "outputs": [
        {
          "output_type": "execute_result",
          "data": {
            "text/plain": [
              "<All keys matched successfully>"
            ]
          },
          "metadata": {
            "tags": []
          },
          "execution_count": 22
        }
      ]
    },
    {
      "cell_type": "code",
      "metadata": {
        "id": "cCOYFAb5IMGX"
      },
      "source": [
        "dataiter = iter(test_dataloader)\n",
        "images, labels = dataiter.next()\n"
      ],
      "execution_count": null,
      "outputs": []
    },
    {
      "cell_type": "code",
      "metadata": {
        "colab": {
          "base_uri": "https://localhost:8080/"
        },
        "id": "6Jjn_5OIInzO",
        "outputId": "7b13a116-2836-4967-a9a4-9e103faea019"
      },
      "source": [
        "outputs = net(images)\n",
        "print(outputs)"
      ],
      "execution_count": null,
      "outputs": [
        {
          "output_type": "stream",
          "text": [
            "tensor([[0.5383],\n",
            "        [0.6810],\n",
            "        [0.6162],\n",
            "        [0.7169],\n",
            "        [0.8662],\n",
            "        [0.3452],\n",
            "        [0.5847],\n",
            "        [0.2922]], grad_fn=<SigmoidBackward>)\n"
          ],
          "name": "stdout"
        }
      ]
    },
    {
      "cell_type": "code",
      "metadata": {
        "colab": {
          "base_uri": "https://localhost:8080/"
        },
        "id": "Vz21L20uJF5z",
        "outputId": "beb3d49d-258e-465b-c798-be53038eba00"
      },
      "source": [
        "predicted = [1 if x>0.5 else 0 for x in outputs]\n",
        "\n",
        "print('Predicted: ', ' '.join('%5s' % classes[predicted[j]]\n",
        "                              for j in range(8)))"
      ],
      "execution_count": null,
      "outputs": [
        {
          "output_type": "stream",
          "text": [
            "Predicted:  predator predator predator predator predator alien predator alien\n"
          ],
          "name": "stdout"
        }
      ]
    },
    {
      "cell_type": "markdown",
      "metadata": {
        "id": "vskVluFoHQkn"
      },
      "source": [
        "### Accuracy measurement"
      ]
    },
    {
      "cell_type": "code",
      "metadata": {
        "colab": {
          "base_uri": "https://localhost:8080/"
        },
        "id": "_u4V7fQAgC71",
        "outputId": "da2b1aee-7de3-48bd-c8d8-66ec83952a42"
      },
      "source": [
        "correct = 0\n",
        "total = 0\n",
        "with torch.no_grad():\n",
        "    for data in test_dataloader:\n",
        "        images, labels = data\n",
        "        outputs = net(images)\n",
        "        predicted = torch.Tensor([1 if x>0.5 else 0 for x in outputs])\n",
        "        total += labels.size(0)\n",
        "        correct += (predicted == labels).sum().item()\n",
        "\n",
        "print('Accuracy of the network on the 100 test images: %d %%' % (\n",
        "    100 * correct / total))"
      ],
      "execution_count": 24,
      "outputs": [
        {
          "output_type": "stream",
          "text": [
            "Accuracy of the network on the 100 test images: 73 %\n"
          ],
          "name": "stdout"
        }
      ]
    },
    {
      "cell_type": "markdown",
      "metadata": {
        "id": "tVUdzRzCVgA-"
      },
      "source": [
        "### Question: Evaluation\n",
        "1. Why do we use a validation dataset?\n",
        "2. What is overfiiting?\n",
        "3. What is underfitting?\n"
      ]
    },
    {
      "cell_type": "markdown",
      "metadata": {
        "id": "jpX3KDshWwea"
      },
      "source": [
        "1. To test if the model can adapt to data that it has never seen before, and modifying the hiperparameters of the network accordingly.\n",
        "2. When the model performs to well with the training data but poorly with new data.\n",
        "3. When the model has not learned enough from the training data."
      ]
    },
    {
      "cell_type": "markdown",
      "metadata": {
        "id": "aT1o1DCrWzI3"
      },
      "source": [
        "Submit your notebook :D and good luck in your exam"
      ]
    }
  ]
}