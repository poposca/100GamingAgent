{
  "cells": [
    {
      "cell_type": "markdown",
      "metadata": {
        "id": "view-in-github",
        "colab_type": "text"
      },
      "source": [
        "<a href=\"https://colab.research.google.com/github/poposca/100GamingAgent/blob/main/challenge1.ipynb\" target=\"_parent\"><img src=\"https://colab.research.google.com/assets/colab-badge.svg\" alt=\"Open In Colab\"/></a>"
      ]
    },
    {
      "cell_type": "markdown",
      "metadata": {
        "id": "2dIWCPvcfRsR"
      },
      "source": [
        "## Task 1: Load Data & Import Libraries"
      ]
    },
    {
      "cell_type": "code",
      "execution_count": null,
      "metadata": {
        "id": "bimm3Xm8fRsS"
      },
      "outputs": [],
      "source": [
        "import opendatasets as od\n",
        "import pandas as pd\n",
        "import numpy as np\n",
        "import matplotlib.pyplot as plt\n",
        "import seaborn as sns\n",
        "import plotly.express as px\n",
        "from matplotlib.colors import ListedColormap"
      ]
    },
    {
      "cell_type": "code",
      "execution_count": null,
      "metadata": {
        "id": "b5iFH6OBfRsT",
        "outputId": "92f46772-f14f-4d46-b44d-c4786eaa021c"
      },
      "outputs": [
        {
          "name": "stdout",
          "output_type": "stream",
          "text": [
            "Dataset URL: https://www.kaggle.com/datasets/heesoo37/120-years-of-olympic-history-athletes-and-results\n"
          ]
        }
      ],
      "source": [
        "od.download('https://www.kaggle.com/datasets/heesoo37/120-years-of-olympic-history-athletes-and-results')"
      ]
    },
    {
      "cell_type": "code",
      "execution_count": null,
      "metadata": {
        "id": "tfU4dApLfRsT"
      },
      "outputs": [],
      "source": [
        "athlete_data_filename = 'athlete_events.csv'\n",
        "regions_data_filename = 'noc_regions.csv'"
      ]
    },
    {
      "cell_type": "code",
      "execution_count": null,
      "metadata": {
        "id": "D5kym_XtfRsT"
      },
      "outputs": [],
      "source": [
        "athletes_df  = pd.read_csv('./120-years-of-olympic-history-athletes-and-results/' + athlete_data_filename)\n",
        "regions_df  = pd.read_csv('./120-years-of-olympic-history-athletes-and-results/' + regions_data_filename)"
      ]
    },
    {
      "cell_type": "code",
      "execution_count": null,
      "metadata": {
        "id": "E81EUWsCfRsT",
        "outputId": "3d313211-8ecc-4547-ba92-af9f81ae280b"
      },
      "outputs": [
        {
          "name": "stdout",
          "output_type": "stream",
          "text": [
            "   ID                      Name Sex   Age  Height  Weight            Team  \\\n",
            "0   1                 A Dijiang   M  24.0   180.0    80.0           China   \n",
            "1   2                  A Lamusi   M  23.0   170.0    60.0           China   \n",
            "2   3       Gunnar Nielsen Aaby   M  24.0     NaN     NaN         Denmark   \n",
            "3   4      Edgar Lindenau Aabye   M  34.0     NaN     NaN  Denmark/Sweden   \n",
            "4   5  Christine Jacoba Aaftink   F  21.0   185.0    82.0     Netherlands   \n",
            "\n",
            "   NOC        Games  Year  Season       City          Sport  \\\n",
            "0  CHN  1992 Summer  1992  Summer  Barcelona     Basketball   \n",
            "1  CHN  2012 Summer  2012  Summer     London           Judo   \n",
            "2  DEN  1920 Summer  1920  Summer  Antwerpen       Football   \n",
            "3  DEN  1900 Summer  1900  Summer      Paris     Tug-Of-War   \n",
            "4  NED  1988 Winter  1988  Winter    Calgary  Speed Skating   \n",
            "\n",
            "                              Event Medal  \n",
            "0       Basketball Men's Basketball   NaN  \n",
            "1      Judo Men's Extra-Lightweight   NaN  \n",
            "2           Football Men's Football   NaN  \n",
            "3       Tug-Of-War Men's Tug-Of-War  Gold  \n",
            "4  Speed Skating Women's 500 metres   NaN  \n"
          ]
        }
      ],
      "source": [
        "print(athletes_df.head())"
      ]
    },
    {
      "cell_type": "code",
      "execution_count": null,
      "metadata": {
        "id": "zyeTbGhVfRsT",
        "outputId": "b1a6167a-3c1f-48fc-f573-82f777c565e7"
      },
      "outputs": [
        {
          "name": "stdout",
          "output_type": "stream",
          "text": [
            "   NOC       region                 notes\n",
            "0  AFG  Afghanistan                   NaN\n",
            "1  AHO      Curacao  Netherlands Antilles\n",
            "2  ALB      Albania                   NaN\n",
            "3  ALG      Algeria                   NaN\n",
            "4  AND      Andorra                   NaN\n"
          ]
        }
      ],
      "source": [
        "print(regions_df.head())"
      ]
    },
    {
      "cell_type": "markdown",
      "metadata": {
        "id": "XpmEKQyJfRsT"
      },
      "source": [
        "##  Task 2: Set Plot Style and Color Palette"
      ]
    },
    {
      "cell_type": "code",
      "execution_count": null,
      "metadata": {
        "id": "ZxRN1OWrfRsT",
        "outputId": "e054e45a-5368-4c28-80b9-83710822c1d8",
        "colab": {
          "base_uri": "https://localhost:8080/"
        }
      },
      "outputs": [
        {
          "output_type": "execute_result",
          "data": {
            "text/plain": [
              "2"
            ]
          },
          "metadata": {},
          "execution_count": 2
        }
      ],
      "source": [
        "1+1"
      ]
    },
    {
      "cell_type": "code",
      "source": [],
      "metadata": {
        "id": "ENnj1PCafjeH"
      },
      "execution_count": null,
      "outputs": []
    }
  ],
  "metadata": {
    "kernelspec": {
      "display_name": "Python 3",
      "language": "python",
      "name": "python3"
    },
    "language_info": {
      "codemirror_mode": {
        "name": "ipython",
        "version": 3
      },
      "file_extension": ".py",
      "mimetype": "text/x-python",
      "name": "python",
      "nbconvert_exporter": "python",
      "pygments_lexer": "ipython3",
      "version": "3.12.0"
    },
    "colab": {
      "provenance": [],
      "include_colab_link": true
    }
  },
  "nbformat": 4,
  "nbformat_minor": 0
}